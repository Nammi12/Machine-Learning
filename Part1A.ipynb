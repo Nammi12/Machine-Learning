{
 "cells": [
  {
   "cell_type": "markdown",
   "metadata": {},
   "source": [
    "# K Nearest Neighbour for Regression"
   ]
  },
  {
   "cell_type": "code",
   "execution_count": 1,
   "metadata": {},
   "outputs": [
    {
     "name": "stdout",
     "output_type": "stream",
     "text": [
      "Squared Error : 0.8176666477207176\n",
      "Processed time for KNN Regression : 1.65625\n"
     ]
    }
   ],
   "source": [
    "import numpy as np\n",
    "from time import process_time\n",
    "\n",
    "# test_data reads data from regression testData into 2D array\n",
    "test_data = np.genfromtxt('C:/CIT/Semester 1/PML/Assignment1/data/data/regression/testData.csv',delimiter=',')\n",
    "\n",
    "# training_data reads data from regression Trainingdata into 2D array\n",
    "training_data = np.genfromtxt('C:/CIT/Semester 1/PML/Assignment1/data/data/regression/trainingData.csv',delimiter=',')\n",
    "\n",
    "#training_data is 2d array, test_data is 1d array\n",
    "# We calculate distance for every testdata to all trainingdata,\n",
    "# Return euclidian_dist contains distance as that to number of rows in trainingdata for that testdata.\n",
    "def calculate_distances(training_data_feature,test_data_feature):\n",
    "    euclidian_dist = np.sqrt(np.sum(np.square(training_data_feature - test_data_feature),axis =1 )) \n",
    "    return euclidian_dist\n",
    "\n",
    "#Calls the calculate_distances\n",
    "# fetch the nearest K distances ; argsort return the index of the nearest dataset\n",
    "# Return the inverse distance weight\n",
    "def predict(training_data_feature,test_data_feature):\n",
    "    euclidian_dist = []   \n",
    "    k = 3\n",
    "    #calculates the distance for each all test_data on training_data   \n",
    "    euclidian_dist = calculate_distances(training_data_feature,test_data_feature)\n",
    "    kminimum_distance_Index = np.argsort(euclidian_dist)[:k]\n",
    "    \n",
    "    #farther the datapoint from the available data point ,higher the inverse distance weight \n",
    "    predicted_regression_avg = np.sum(training_data[kminimum_distance_Index,-1] *(1/(euclidian_dist[kminimum_distance_Index])))/np.sum(1/(euclidian_dist[kminimum_distance_Index]))\n",
    "    \n",
    "    return  predicted_regression_avg\n",
    "\n",
    "#Calculates the squared error in testdata between the predictedValue and the testdata(last column)\n",
    "# R2 score between 0-1 ; implies good model\n",
    "def calculate_r2(test_data,predicted_avg):\n",
    "    square_residuals = np.sum(np.square(predicted_avg - test_data[:,-1]))\n",
    "    sum_squares = np.sum(np.square(np.mean(test_data[:,-1]) - test_data[:,-1]))\n",
    "    r2 = 1 - (square_residuals/sum_squares)\n",
    "    print(\"Squared Error :\" , r2)\n",
    "    \n",
    "\n",
    "#Execution point for the program    \n",
    "if __name__==\"__main__\":\n",
    "    \n",
    "    predicted_avg = [] \n",
    "    # foreach testdata call predict function\n",
    "    for i in range(len(test_data)):\n",
    "        predicted_avg.append(predict(training_data[:,:-1],test_data[i,:-1]))  \n",
    "        \n",
    "    calculate_r2(test_data,predicted_avg)\n",
    "    print(\"Processed time for KNN Regression :\",process_time())"
   ]
  },
  {
   "cell_type": "code",
   "execution_count": null,
   "metadata": {},
   "outputs": [],
   "source": []
  }
 ],
 "metadata": {
  "kernelspec": {
   "display_name": "Python 3",
   "language": "python",
   "name": "python3"
  },
  "language_info": {
   "codemirror_mode": {
    "name": "ipython",
    "version": 3
   },
   "file_extension": ".py",
   "mimetype": "text/x-python",
   "name": "python",
   "nbconvert_exporter": "python",
   "pygments_lexer": "ipython3",
   "version": "3.7.9"
  }
 },
 "nbformat": 4,
 "nbformat_minor": 4
}
